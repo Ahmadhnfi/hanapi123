{
 "cells": [
  {
   "cell_type": "code",
   "execution_count": 1,
   "id": "b7523a94",
   "metadata": {},
   "outputs": [],
   "source": [
    "import numpy as np\n",
    "import pandas as pd\n",
    "\n",
    "# Library untuk visualisasi data\n",
    "import matplotlib.pyplot as plt\n",
    "import seaborn as sns\n",
    "%matplotlib inline\n",
    "\n",
    "from sklearn.model_selection import train_test_split\n",
    "from sklearn.preprocessing import MinMaxScaler, StandardScaler, LabelEncoder, OneHotEncoder, OrdinalEncoder\n",
    "\n",
    "# for resampling \n",
    "from imblearn.over_sampling import RandomOverSampler\n",
    "\n",
    "#for MODEL\n",
    "from sklearn.tree import DecisionTreeClassifier\n",
    "from sklearn.ensemble import RandomForestClassifier\n",
    "\n",
    "#for checking testing results\n",
    "from sklearn.metrics import accuracy_score, f1_score, recall_score, precision_score, classification_report, confusion_matrix"
   ]
  },
  {
   "cell_type": "code",
   "execution_count": 2,
   "id": "2e2e6b84",
   "metadata": {},
   "outputs": [
    {
     "data": {
      "text/html": [
       "<div>\n",
       "<style scoped>\n",
       "    .dataframe tbody tr th:only-of-type {\n",
       "        vertical-align: middle;\n",
       "    }\n",
       "\n",
       "    .dataframe tbody tr th {\n",
       "        vertical-align: top;\n",
       "    }\n",
       "\n",
       "    .dataframe thead th {\n",
       "        text-align: right;\n",
       "    }\n",
       "</style>\n",
       "<table border=\"1\" class=\"dataframe\">\n",
       "  <thead>\n",
       "    <tr style=\"text-align: right;\">\n",
       "      <th></th>\n",
       "      <th>Case_Type</th>\n",
       "      <th>Cases</th>\n",
       "      <th>Difference</th>\n",
       "      <th>Date</th>\n",
       "      <th>Country_Region</th>\n",
       "      <th>Province_State</th>\n",
       "      <th>Admin2</th>\n",
       "      <th>Combined_Key</th>\n",
       "      <th>FIPS</th>\n",
       "      <th>Lat</th>\n",
       "      <th>Long</th>\n",
       "      <th>Table_Names</th>\n",
       "      <th>Prep_Flow_Runtime</th>\n",
       "    </tr>\n",
       "  </thead>\n",
       "  <tbody>\n",
       "    <tr>\n",
       "      <th>0</th>\n",
       "      <td>Confirmed</td>\n",
       "      <td>319</td>\n",
       "      <td>1</td>\n",
       "      <td>4/11/2020</td>\n",
       "      <td>Mauritius</td>\n",
       "      <td>NaN</td>\n",
       "      <td>NaN</td>\n",
       "      <td>NaN</td>\n",
       "      <td>NaN</td>\n",
       "      <td>-20.200000</td>\n",
       "      <td>57.500000</td>\n",
       "      <td>Time Series</td>\n",
       "      <td>4/13/2020 9:18:41 PM</td>\n",
       "    </tr>\n",
       "    <tr>\n",
       "      <th>1</th>\n",
       "      <td>Deaths</td>\n",
       "      <td>0</td>\n",
       "      <td>0</td>\n",
       "      <td>2/27/2020</td>\n",
       "      <td>Bahamas</td>\n",
       "      <td>NaN</td>\n",
       "      <td>NaN</td>\n",
       "      <td>NaN</td>\n",
       "      <td>NaN</td>\n",
       "      <td>25.034300</td>\n",
       "      <td>-77.396300</td>\n",
       "      <td>Time Series</td>\n",
       "      <td>4/13/2020 9:18:41 PM</td>\n",
       "    </tr>\n",
       "    <tr>\n",
       "      <th>2</th>\n",
       "      <td>Confirmed</td>\n",
       "      <td>16</td>\n",
       "      <td>0</td>\n",
       "      <td>2/16/2020</td>\n",
       "      <td>Germany</td>\n",
       "      <td>NaN</td>\n",
       "      <td>NaN</td>\n",
       "      <td>NaN</td>\n",
       "      <td>NaN</td>\n",
       "      <td>51.000000</td>\n",
       "      <td>9.000000</td>\n",
       "      <td>Time Series</td>\n",
       "      <td>4/13/2020 9:18:41 PM</td>\n",
       "    </tr>\n",
       "    <tr>\n",
       "      <th>3</th>\n",
       "      <td>Deaths</td>\n",
       "      <td>0</td>\n",
       "      <td>0</td>\n",
       "      <td>1/31/2020</td>\n",
       "      <td>Canada</td>\n",
       "      <td>Alberta</td>\n",
       "      <td>NaN</td>\n",
       "      <td>NaN</td>\n",
       "      <td>NaN</td>\n",
       "      <td>53.933300</td>\n",
       "      <td>-116.576500</td>\n",
       "      <td>Time Series</td>\n",
       "      <td>4/13/2020 9:18:41 PM</td>\n",
       "    </tr>\n",
       "    <tr>\n",
       "      <th>4</th>\n",
       "      <td>Deaths</td>\n",
       "      <td>0</td>\n",
       "      <td>0</td>\n",
       "      <td>3/4/2020</td>\n",
       "      <td>Australia</td>\n",
       "      <td>Queensland</td>\n",
       "      <td>NaN</td>\n",
       "      <td>NaN</td>\n",
       "      <td>NaN</td>\n",
       "      <td>-28.016700</td>\n",
       "      <td>153.400000</td>\n",
       "      <td>Time Series</td>\n",
       "      <td>4/13/2020 9:18:41 PM</td>\n",
       "    </tr>\n",
       "    <tr>\n",
       "      <th>...</th>\n",
       "      <td>...</td>\n",
       "      <td>...</td>\n",
       "      <td>...</td>\n",
       "      <td>...</td>\n",
       "      <td>...</td>\n",
       "      <td>...</td>\n",
       "      <td>...</td>\n",
       "      <td>...</td>\n",
       "      <td>...</td>\n",
       "      <td>...</td>\n",
       "      <td>...</td>\n",
       "      <td>...</td>\n",
       "      <td>...</td>\n",
       "    </tr>\n",
       "    <tr>\n",
       "      <th>582655</th>\n",
       "      <td>Deaths</td>\n",
       "      <td>0</td>\n",
       "      <td>0</td>\n",
       "      <td>1/22/2020</td>\n",
       "      <td>US</td>\n",
       "      <td>Mississippi</td>\n",
       "      <td>Hancock</td>\n",
       "      <td>Hancock, Mississippi, US</td>\n",
       "      <td>28045.0</td>\n",
       "      <td>30.418302</td>\n",
       "      <td>-89.488510</td>\n",
       "      <td>Time Series</td>\n",
       "      <td>4/13/2020 9:18:41 PM</td>\n",
       "    </tr>\n",
       "    <tr>\n",
       "      <th>582656</th>\n",
       "      <td>Confirmed</td>\n",
       "      <td>0</td>\n",
       "      <td>0</td>\n",
       "      <td>1/22/2020</td>\n",
       "      <td>US</td>\n",
       "      <td>Alabama</td>\n",
       "      <td>Etowah</td>\n",
       "      <td>Etowah, Alabama, US</td>\n",
       "      <td>1055.0</td>\n",
       "      <td>34.045673</td>\n",
       "      <td>-86.040519</td>\n",
       "      <td>Time Series</td>\n",
       "      <td>4/13/2020 9:18:41 PM</td>\n",
       "    </tr>\n",
       "    <tr>\n",
       "      <th>582657</th>\n",
       "      <td>Confirmed</td>\n",
       "      <td>0</td>\n",
       "      <td>0</td>\n",
       "      <td>1/22/2020</td>\n",
       "      <td>US</td>\n",
       "      <td>Tennessee</td>\n",
       "      <td>Montgomery</td>\n",
       "      <td>Montgomery, Tennessee, US</td>\n",
       "      <td>47125.0</td>\n",
       "      <td>36.496094</td>\n",
       "      <td>-87.385507</td>\n",
       "      <td>Time Series</td>\n",
       "      <td>4/13/2020 9:18:41 PM</td>\n",
       "    </tr>\n",
       "    <tr>\n",
       "      <th>582658</th>\n",
       "      <td>Deaths</td>\n",
       "      <td>0</td>\n",
       "      <td>0</td>\n",
       "      <td>1/22/2020</td>\n",
       "      <td>US</td>\n",
       "      <td>Louisiana</td>\n",
       "      <td>Lincoln</td>\n",
       "      <td>Lincoln, Louisiana, US</td>\n",
       "      <td>22061.0</td>\n",
       "      <td>32.600315</td>\n",
       "      <td>-92.665974</td>\n",
       "      <td>Time Series</td>\n",
       "      <td>4/13/2020 9:18:41 PM</td>\n",
       "    </tr>\n",
       "    <tr>\n",
       "      <th>582659</th>\n",
       "      <td>Deaths</td>\n",
       "      <td>0</td>\n",
       "      <td>0</td>\n",
       "      <td>1/22/2020</td>\n",
       "      <td>US</td>\n",
       "      <td>New Jersey</td>\n",
       "      <td>Warren</td>\n",
       "      <td>Warren, New Jersey, US</td>\n",
       "      <td>34041.0</td>\n",
       "      <td>40.859518</td>\n",
       "      <td>-74.995565</td>\n",
       "      <td>Time Series</td>\n",
       "      <td>4/13/2020 9:18:41 PM</td>\n",
       "    </tr>\n",
       "  </tbody>\n",
       "</table>\n",
       "<p>582660 rows × 13 columns</p>\n",
       "</div>"
      ],
      "text/plain": [
       "        Case_Type  Cases  Difference       Date Country_Region Province_State  \\\n",
       "0       Confirmed    319           1  4/11/2020      Mauritius            NaN   \n",
       "1          Deaths      0           0  2/27/2020        Bahamas            NaN   \n",
       "2       Confirmed     16           0  2/16/2020        Germany            NaN   \n",
       "3          Deaths      0           0  1/31/2020         Canada        Alberta   \n",
       "4          Deaths      0           0   3/4/2020      Australia     Queensland   \n",
       "...           ...    ...         ...        ...            ...            ...   \n",
       "582655     Deaths      0           0  1/22/2020             US    Mississippi   \n",
       "582656  Confirmed      0           0  1/22/2020             US        Alabama   \n",
       "582657  Confirmed      0           0  1/22/2020             US      Tennessee   \n",
       "582658     Deaths      0           0  1/22/2020             US      Louisiana   \n",
       "582659     Deaths      0           0  1/22/2020             US     New Jersey   \n",
       "\n",
       "            Admin2               Combined_Key     FIPS        Lat        Long  \\\n",
       "0              NaN                        NaN      NaN -20.200000   57.500000   \n",
       "1              NaN                        NaN      NaN  25.034300  -77.396300   \n",
       "2              NaN                        NaN      NaN  51.000000    9.000000   \n",
       "3              NaN                        NaN      NaN  53.933300 -116.576500   \n",
       "4              NaN                        NaN      NaN -28.016700  153.400000   \n",
       "...            ...                        ...      ...        ...         ...   \n",
       "582655     Hancock   Hancock, Mississippi, US  28045.0  30.418302  -89.488510   \n",
       "582656      Etowah        Etowah, Alabama, US   1055.0  34.045673  -86.040519   \n",
       "582657  Montgomery  Montgomery, Tennessee, US  47125.0  36.496094  -87.385507   \n",
       "582658     Lincoln     Lincoln, Louisiana, US  22061.0  32.600315  -92.665974   \n",
       "582659      Warren     Warren, New Jersey, US  34041.0  40.859518  -74.995565   \n",
       "\n",
       "        Table_Names     Prep_Flow_Runtime  \n",
       "0       Time Series  4/13/2020 9:18:41 PM  \n",
       "1       Time Series  4/13/2020 9:18:41 PM  \n",
       "2       Time Series  4/13/2020 9:18:41 PM  \n",
       "3       Time Series  4/13/2020 9:18:41 PM  \n",
       "4       Time Series  4/13/2020 9:18:41 PM  \n",
       "...             ...                   ...  \n",
       "582655  Time Series  4/13/2020 9:18:41 PM  \n",
       "582656  Time Series  4/13/2020 9:18:41 PM  \n",
       "582657  Time Series  4/13/2020 9:18:41 PM  \n",
       "582658  Time Series  4/13/2020 9:18:41 PM  \n",
       "582659  Time Series  4/13/2020 9:18:41 PM  \n",
       "\n",
       "[582660 rows x 13 columns]"
      ]
     },
     "execution_count": 2,
     "metadata": {},
     "output_type": "execute_result"
    }
   ],
   "source": [
    "datacovid = \"COVID-19 Cases.csv\"\n",
    "data = pd.read_csv(datacovid)\n",
    "data"
   ]
  },
  {
   "cell_type": "code",
   "execution_count": 3,
   "id": "28e83ee6",
   "metadata": {},
   "outputs": [
    {
     "data": {
      "text/plain": [
       "Case_Type                0\n",
       "Cases                    0\n",
       "Difference               0\n",
       "Date                     0\n",
       "Country_Region           0\n",
       "Province_State       29880\n",
       "Admin2               43824\n",
       "Combined_Key         42994\n",
       "FIPS                 60258\n",
       "Lat                    166\n",
       "Long                   166\n",
       "Table_Names              0\n",
       "Prep_Flow_Runtime        0\n",
       "dtype: int64"
      ]
     },
     "execution_count": 3,
     "metadata": {},
     "output_type": "execute_result"
    }
   ],
   "source": [
    "# Memeriksa missing/null value\n",
    "data.isnull().sum()"
   ]
  },
  {
   "cell_type": "code",
   "execution_count": 4,
   "id": "16d4825b",
   "metadata": {},
   "outputs": [
    {
     "name": "stdout",
     "output_type": "stream",
     "text": [
      "<class 'pandas.core.frame.DataFrame'>\n",
      "RangeIndex: 582660 entries, 0 to 582659\n",
      "Data columns (total 13 columns):\n",
      " #   Column             Non-Null Count   Dtype  \n",
      "---  ------             --------------   -----  \n",
      " 0   Case_Type          582660 non-null  object \n",
      " 1   Cases              582660 non-null  int64  \n",
      " 2   Difference         582660 non-null  int64  \n",
      " 3   Date               582660 non-null  object \n",
      " 4   Country_Region     582660 non-null  object \n",
      " 5   Province_State     552780 non-null  object \n",
      " 6   Admin2             538836 non-null  object \n",
      " 7   Combined_Key       539666 non-null  object \n",
      " 8   FIPS               522402 non-null  float64\n",
      " 9   Lat                582494 non-null  float64\n",
      " 10  Long               582494 non-null  float64\n",
      " 11  Table_Names        582660 non-null  object \n",
      " 12  Prep_Flow_Runtime  582660 non-null  object \n",
      "dtypes: float64(3), int64(2), object(8)\n",
      "memory usage: 57.8+ MB\n"
     ]
    }
   ],
   "source": [
    "# Memeriksa info dalam dataset\n",
    "data.info()"
   ]
  },
  {
   "cell_type": "code",
   "execution_count": 5,
   "id": "ce34b350",
   "metadata": {},
   "outputs": [
    {
     "data": {
      "text/plain": [
       "Index(['Case_Type', 'Cases', 'Difference', 'Date', 'Country_Region',\n",
       "       'Province_State', 'Admin2', 'Combined_Key', 'FIPS', 'Lat', 'Long',\n",
       "       'Table_Names', 'Prep_Flow_Runtime'],\n",
       "      dtype='object')"
      ]
     },
     "execution_count": 5,
     "metadata": {},
     "output_type": "execute_result"
    }
   ],
   "source": [
    "data.columns"
   ]
  },
  {
   "cell_type": "code",
   "execution_count": 6,
   "id": "55dd42fd",
   "metadata": {},
   "outputs": [],
   "source": [
    "# Drop kolom-kolom yang tidak digunakan (Feature Selection)\n",
    "to_drop = ['Date','Province_State','Admin2','Combined_Key','FIPS','Table_Names', 'Prep_Flow_Runtime','Lat','Long']\n",
    "data.drop(to_drop, inplace=True, axis=1)"
   ]
  },
  {
   "cell_type": "code",
   "execution_count": 7,
   "id": "93725f05",
   "metadata": {},
   "outputs": [
    {
     "data": {
      "text/plain": [
       "Case_Type         0\n",
       "Cases             0\n",
       "Difference        0\n",
       "Country_Region    0\n",
       "dtype: int64"
      ]
     },
     "execution_count": 7,
     "metadata": {},
     "output_type": "execute_result"
    }
   ],
   "source": [
    "data.isnull().sum()"
   ]
  },
  {
   "cell_type": "code",
   "execution_count": 8,
   "id": "acd84666",
   "metadata": {},
   "outputs": [
    {
     "data": {
      "text/html": [
       "<div>\n",
       "<style scoped>\n",
       "    .dataframe tbody tr th:only-of-type {\n",
       "        vertical-align: middle;\n",
       "    }\n",
       "\n",
       "    .dataframe tbody tr th {\n",
       "        vertical-align: top;\n",
       "    }\n",
       "\n",
       "    .dataframe thead th {\n",
       "        text-align: right;\n",
       "    }\n",
       "</style>\n",
       "<table border=\"1\" class=\"dataframe\">\n",
       "  <thead>\n",
       "    <tr style=\"text-align: right;\">\n",
       "      <th></th>\n",
       "      <th>Case_Type</th>\n",
       "      <th>Cases</th>\n",
       "      <th>Difference</th>\n",
       "      <th>Country_Region</th>\n",
       "    </tr>\n",
       "  </thead>\n",
       "  <tbody>\n",
       "    <tr>\n",
       "      <th>0</th>\n",
       "      <td>Confirmed</td>\n",
       "      <td>319</td>\n",
       "      <td>1</td>\n",
       "      <td>Mauritius</td>\n",
       "    </tr>\n",
       "    <tr>\n",
       "      <th>1</th>\n",
       "      <td>Deaths</td>\n",
       "      <td>0</td>\n",
       "      <td>0</td>\n",
       "      <td>Bahamas</td>\n",
       "    </tr>\n",
       "    <tr>\n",
       "      <th>2</th>\n",
       "      <td>Confirmed</td>\n",
       "      <td>16</td>\n",
       "      <td>0</td>\n",
       "      <td>Germany</td>\n",
       "    </tr>\n",
       "    <tr>\n",
       "      <th>3</th>\n",
       "      <td>Deaths</td>\n",
       "      <td>0</td>\n",
       "      <td>0</td>\n",
       "      <td>Canada</td>\n",
       "    </tr>\n",
       "    <tr>\n",
       "      <th>4</th>\n",
       "      <td>Deaths</td>\n",
       "      <td>0</td>\n",
       "      <td>0</td>\n",
       "      <td>Australia</td>\n",
       "    </tr>\n",
       "    <tr>\n",
       "      <th>...</th>\n",
       "      <td>...</td>\n",
       "      <td>...</td>\n",
       "      <td>...</td>\n",
       "      <td>...</td>\n",
       "    </tr>\n",
       "    <tr>\n",
       "      <th>582655</th>\n",
       "      <td>Deaths</td>\n",
       "      <td>0</td>\n",
       "      <td>0</td>\n",
       "      <td>US</td>\n",
       "    </tr>\n",
       "    <tr>\n",
       "      <th>582656</th>\n",
       "      <td>Confirmed</td>\n",
       "      <td>0</td>\n",
       "      <td>0</td>\n",
       "      <td>US</td>\n",
       "    </tr>\n",
       "    <tr>\n",
       "      <th>582657</th>\n",
       "      <td>Confirmed</td>\n",
       "      <td>0</td>\n",
       "      <td>0</td>\n",
       "      <td>US</td>\n",
       "    </tr>\n",
       "    <tr>\n",
       "      <th>582658</th>\n",
       "      <td>Deaths</td>\n",
       "      <td>0</td>\n",
       "      <td>0</td>\n",
       "      <td>US</td>\n",
       "    </tr>\n",
       "    <tr>\n",
       "      <th>582659</th>\n",
       "      <td>Deaths</td>\n",
       "      <td>0</td>\n",
       "      <td>0</td>\n",
       "      <td>US</td>\n",
       "    </tr>\n",
       "  </tbody>\n",
       "</table>\n",
       "<p>582660 rows × 4 columns</p>\n",
       "</div>"
      ],
      "text/plain": [
       "        Case_Type  Cases  Difference Country_Region\n",
       "0       Confirmed    319           1      Mauritius\n",
       "1          Deaths      0           0        Bahamas\n",
       "2       Confirmed     16           0        Germany\n",
       "3          Deaths      0           0         Canada\n",
       "4          Deaths      0           0      Australia\n",
       "...           ...    ...         ...            ...\n",
       "582655     Deaths      0           0             US\n",
       "582656  Confirmed      0           0             US\n",
       "582657  Confirmed      0           0             US\n",
       "582658     Deaths      0           0             US\n",
       "582659     Deaths      0           0             US\n",
       "\n",
       "[582660 rows x 4 columns]"
      ]
     },
     "execution_count": 8,
     "metadata": {},
     "output_type": "execute_result"
    }
   ],
   "source": [
    "data"
   ]
  },
  {
   "cell_type": "code",
   "execution_count": 9,
   "id": "415c6545",
   "metadata": {},
   "outputs": [
    {
     "data": {
      "text/plain": [
       "True"
      ]
     },
     "execution_count": 9,
     "metadata": {},
     "output_type": "execute_result"
    }
   ],
   "source": [
    "# Rows containing duplicate data\n",
    "data.duplicated().any()"
   ]
  },
  {
   "cell_type": "code",
   "execution_count": 10,
   "id": "656b770c",
   "metadata": {},
   "outputs": [
    {
     "name": "stdout",
     "output_type": "stream",
     "text": [
      "Number of rows before removing duplicates: 582660\n",
      "Number of rows after removing duplicates: 19317\n"
     ]
    }
   ],
   "source": [
    "# Mengatasi data duplikat dengan removing\n",
    "\n",
    "# Print the number of rows before removing duplicates\n",
    "print(\"Number of rows before removing duplicates:\", len(data))\n",
    "\n",
    "# Drop duplicates\n",
    "data.drop_duplicates(inplace=True)\n",
    "\n",
    "# Print the number of rows after removing duplicates\n",
    "print(\"Number of rows after removing duplicates:\", len(data))\n",
    "\n",
    "# Simpan dataframe ke dalam file CSV\n",
    "data.to_csv('COVID 19 Cases.csv', index=False)"
   ]
  },
  {
   "cell_type": "code",
   "execution_count": 11,
   "id": "e798dc3a",
   "metadata": {},
   "outputs": [
    {
     "data": {
      "text/html": [
       "<div>\n",
       "<style scoped>\n",
       "    .dataframe tbody tr th:only-of-type {\n",
       "        vertical-align: middle;\n",
       "    }\n",
       "\n",
       "    .dataframe tbody tr th {\n",
       "        vertical-align: top;\n",
       "    }\n",
       "\n",
       "    .dataframe thead th {\n",
       "        text-align: right;\n",
       "    }\n",
       "</style>\n",
       "<table border=\"1\" class=\"dataframe\">\n",
       "  <thead>\n",
       "    <tr style=\"text-align: right;\">\n",
       "      <th></th>\n",
       "      <th>Case_Type</th>\n",
       "      <th>Cases</th>\n",
       "      <th>Difference</th>\n",
       "      <th>Country_Region</th>\n",
       "    </tr>\n",
       "  </thead>\n",
       "  <tbody>\n",
       "    <tr>\n",
       "      <th>0</th>\n",
       "      <td>Confirmed</td>\n",
       "      <td>319</td>\n",
       "      <td>1</td>\n",
       "      <td>Mauritius</td>\n",
       "    </tr>\n",
       "    <tr>\n",
       "      <th>1</th>\n",
       "      <td>Deaths</td>\n",
       "      <td>0</td>\n",
       "      <td>0</td>\n",
       "      <td>Bahamas</td>\n",
       "    </tr>\n",
       "    <tr>\n",
       "      <th>2</th>\n",
       "      <td>Confirmed</td>\n",
       "      <td>16</td>\n",
       "      <td>0</td>\n",
       "      <td>Germany</td>\n",
       "    </tr>\n",
       "    <tr>\n",
       "      <th>3</th>\n",
       "      <td>Deaths</td>\n",
       "      <td>0</td>\n",
       "      <td>0</td>\n",
       "      <td>Canada</td>\n",
       "    </tr>\n",
       "    <tr>\n",
       "      <th>4</th>\n",
       "      <td>Deaths</td>\n",
       "      <td>0</td>\n",
       "      <td>0</td>\n",
       "      <td>Australia</td>\n",
       "    </tr>\n",
       "    <tr>\n",
       "      <th>...</th>\n",
       "      <td>...</td>\n",
       "      <td>...</td>\n",
       "      <td>...</td>\n",
       "      <td>...</td>\n",
       "    </tr>\n",
       "    <tr>\n",
       "      <th>581259</th>\n",
       "      <td>Confirmed</td>\n",
       "      <td>231</td>\n",
       "      <td>21</td>\n",
       "      <td>US</td>\n",
       "    </tr>\n",
       "    <tr>\n",
       "      <th>581312</th>\n",
       "      <td>Confirmed</td>\n",
       "      <td>637</td>\n",
       "      <td>49</td>\n",
       "      <td>US</td>\n",
       "    </tr>\n",
       "    <tr>\n",
       "      <th>581333</th>\n",
       "      <td>Confirmed</td>\n",
       "      <td>244</td>\n",
       "      <td>6</td>\n",
       "      <td>US</td>\n",
       "    </tr>\n",
       "    <tr>\n",
       "      <th>581527</th>\n",
       "      <td>Confirmed</td>\n",
       "      <td>247</td>\n",
       "      <td>16</td>\n",
       "      <td>US</td>\n",
       "    </tr>\n",
       "    <tr>\n",
       "      <th>581616</th>\n",
       "      <td>Confirmed</td>\n",
       "      <td>4808</td>\n",
       "      <td>-58</td>\n",
       "      <td>US</td>\n",
       "    </tr>\n",
       "  </tbody>\n",
       "</table>\n",
       "<p>19317 rows × 4 columns</p>\n",
       "</div>"
      ],
      "text/plain": [
       "        Case_Type  Cases  Difference Country_Region\n",
       "0       Confirmed    319           1      Mauritius\n",
       "1          Deaths      0           0        Bahamas\n",
       "2       Confirmed     16           0        Germany\n",
       "3          Deaths      0           0         Canada\n",
       "4          Deaths      0           0      Australia\n",
       "...           ...    ...         ...            ...\n",
       "581259  Confirmed    231          21             US\n",
       "581312  Confirmed    637          49             US\n",
       "581333  Confirmed    244           6             US\n",
       "581527  Confirmed    247          16             US\n",
       "581616  Confirmed   4808         -58             US\n",
       "\n",
       "[19317 rows x 4 columns]"
      ]
     },
     "execution_count": 11,
     "metadata": {},
     "output_type": "execute_result"
    }
   ],
   "source": [
    "data"
   ]
  },
  {
   "cell_type": "code",
   "execution_count": 12,
   "id": "1e149de2",
   "metadata": {},
   "outputs": [
    {
     "data": {
      "text/plain": [
       "False"
      ]
     },
     "execution_count": 12,
     "metadata": {},
     "output_type": "execute_result"
    }
   ],
   "source": [
    "# Periksa kembali data duplikat\n",
    "data.duplicated().any()"
   ]
  },
  {
   "cell_type": "code",
   "execution_count": 13,
   "id": "411fa62f",
   "metadata": {},
   "outputs": [
    {
     "data": {
      "text/plain": [
       "Confirmed    15385\n",
       "Deaths        3932\n",
       "Name: Case_Type, dtype: int64"
      ]
     },
     "execution_count": 13,
     "metadata": {},
     "output_type": "execute_result"
    }
   ],
   "source": [
    "data.Case_Type.value_counts()"
   ]
  },
  {
   "cell_type": "code",
   "execution_count": 14,
   "id": "3c481e91",
   "metadata": {},
   "outputs": [
    {
     "data": {
      "text/html": [
       "<div>\n",
       "<style scoped>\n",
       "    .dataframe tbody tr th:only-of-type {\n",
       "        vertical-align: middle;\n",
       "    }\n",
       "\n",
       "    .dataframe tbody tr th {\n",
       "        vertical-align: top;\n",
       "    }\n",
       "\n",
       "    .dataframe thead th {\n",
       "        text-align: right;\n",
       "    }\n",
       "</style>\n",
       "<table border=\"1\" class=\"dataframe\">\n",
       "  <thead>\n",
       "    <tr style=\"text-align: right;\">\n",
       "      <th></th>\n",
       "      <th>Case_Type</th>\n",
       "      <th>Cases</th>\n",
       "      <th>Difference</th>\n",
       "      <th>Country_Region</th>\n",
       "    </tr>\n",
       "  </thead>\n",
       "  <tbody>\n",
       "    <tr>\n",
       "      <th>0</th>\n",
       "      <td>0</td>\n",
       "      <td>319</td>\n",
       "      <td>1</td>\n",
       "      <td>109</td>\n",
       "    </tr>\n",
       "    <tr>\n",
       "      <th>1</th>\n",
       "      <td>1</td>\n",
       "      <td>0</td>\n",
       "      <td>0</td>\n",
       "      <td>11</td>\n",
       "    </tr>\n",
       "    <tr>\n",
       "      <th>2</th>\n",
       "      <td>0</td>\n",
       "      <td>16</td>\n",
       "      <td>0</td>\n",
       "      <td>65</td>\n",
       "    </tr>\n",
       "    <tr>\n",
       "      <th>3</th>\n",
       "      <td>1</td>\n",
       "      <td>0</td>\n",
       "      <td>0</td>\n",
       "      <td>32</td>\n",
       "    </tr>\n",
       "    <tr>\n",
       "      <th>4</th>\n",
       "      <td>1</td>\n",
       "      <td>0</td>\n",
       "      <td>0</td>\n",
       "      <td>8</td>\n",
       "    </tr>\n",
       "    <tr>\n",
       "      <th>...</th>\n",
       "      <td>...</td>\n",
       "      <td>...</td>\n",
       "      <td>...</td>\n",
       "      <td>...</td>\n",
       "    </tr>\n",
       "    <tr>\n",
       "      <th>581259</th>\n",
       "      <td>0</td>\n",
       "      <td>231</td>\n",
       "      <td>21</td>\n",
       "      <td>170</td>\n",
       "    </tr>\n",
       "    <tr>\n",
       "      <th>581312</th>\n",
       "      <td>0</td>\n",
       "      <td>637</td>\n",
       "      <td>49</td>\n",
       "      <td>170</td>\n",
       "    </tr>\n",
       "    <tr>\n",
       "      <th>581333</th>\n",
       "      <td>0</td>\n",
       "      <td>244</td>\n",
       "      <td>6</td>\n",
       "      <td>170</td>\n",
       "    </tr>\n",
       "    <tr>\n",
       "      <th>581527</th>\n",
       "      <td>0</td>\n",
       "      <td>247</td>\n",
       "      <td>16</td>\n",
       "      <td>170</td>\n",
       "    </tr>\n",
       "    <tr>\n",
       "      <th>581616</th>\n",
       "      <td>0</td>\n",
       "      <td>4808</td>\n",
       "      <td>-58</td>\n",
       "      <td>170</td>\n",
       "    </tr>\n",
       "  </tbody>\n",
       "</table>\n",
       "<p>19317 rows × 4 columns</p>\n",
       "</div>"
      ],
      "text/plain": [
       "        Case_Type  Cases  Difference  Country_Region\n",
       "0               0    319           1             109\n",
       "1               1      0           0              11\n",
       "2               0     16           0              65\n",
       "3               1      0           0              32\n",
       "4               1      0           0               8\n",
       "...           ...    ...         ...             ...\n",
       "581259          0    231          21             170\n",
       "581312          0    637          49             170\n",
       "581333          0    244           6             170\n",
       "581527          0    247          16             170\n",
       "581616          0   4808         -58             170\n",
       "\n",
       "[19317 rows x 4 columns]"
      ]
     },
     "execution_count": 14,
     "metadata": {},
     "output_type": "execute_result"
    }
   ],
   "source": [
    "# Encode Kolom Target\n",
    "encoder = LabelEncoder()\n",
    "data['Case_Type'] = encoder.fit_transform(data['Case_Type'])\n",
    "data['Country_Region']=encoder.fit_transform(data['Country_Region'])\n",
    "data"
   ]
  },
  {
   "cell_type": "code",
   "execution_count": 15,
   "id": "8d260f7f",
   "metadata": {},
   "outputs": [
    {
     "data": {
      "text/plain": [
       "0    15385\n",
       "1     3932\n",
       "Name: Case_Type, dtype: int64"
      ]
     },
     "execution_count": 15,
     "metadata": {},
     "output_type": "execute_result"
    }
   ],
   "source": [
    "# Jumlah kemunculan setiap nilai yang ada di dalam kolom 'Case_Type'.\n",
    "data['Case_Type'].value_counts()"
   ]
  },
  {
   "cell_type": "code",
   "execution_count": 16,
   "id": "43c201c2",
   "metadata": {},
   "outputs": [],
   "source": [
    "# Normalisasi data menggunakan StandardScaler\n",
    "scaler = StandardScaler()\n",
    "col=['Cases','Difference']\n",
    "scaled_ds=scaler.fit_transform(data[col])"
   ]
  },
  {
   "cell_type": "code",
   "execution_count": 19,
   "id": "6ffb9a44",
   "metadata": {},
   "outputs": [
    {
     "name": "stdout",
     "output_type": "stream",
     "text": [
      "Elbow Method to determine the number of clusters to be formed:\n"
     ]
    },
    {
     "data": {
      "image/png": "[encoded data removed]",
      "text/plain": [
       "<Figure size 800x550 with 2 Axes>"
      ]
     },
     "metadata": {},
     "output_type": "display_data"
    },
    {
     "data": {
      "text/plain": [
       "<AxesSubplot: title={'center': 'Distortion Score Elbow for KMeans Clustering'}, xlabel='k', ylabel='distortion score'>"
      ]
     },
     "execution_count": 19,
     "metadata": {},
     "output_type": "execute_result"
    }
   ],
   "source": [
    "# Analisis clustering dengan data yang telah dinormalisasi\n",
    "\n",
    "# Mengabaikan pesan peringatan yang muncul selama program dijalankan\n",
    "import warnings\n",
    "warnings.filterwarnings('ignore')\n",
    "# Import beberapa algoritma clustering\n",
    "from sklearn.cluster import KMeans, DBSCAN, AgglomerativeClustering, SpectralClustering\n",
    "from yellowbrick.cluster import KElbowVisualizer\n",
    "print('Elbow Method to determine the number of clusters to be formed:')\n",
    "# Analisis Elbow Method pada data yang telah dinormalisasi\n",
    "Elbow_M = KElbowVisualizer(KMeans(), k=10) # KElbowVisualizer adalah alat visualisasi yang membantu dalam memilih jumlah klaster yang optimal untuk set data, # Algoritma clustering yang digunakan untuk analisis Elbow Method\n",
    "# melakukan pemanggilan metode 'fit' pada objek Elbow_M dengan memberikan parameter data yang telah dinormalisasi.\n",
    "Elbow_M.fit(scaled_ds)\n",
    "# Menampilkan hasil analisis Elbow Method dalam bentuk visualisasi\n",
    "Elbow_M.show()"
   ]
  },
  {
   "cell_type": "code",
   "execution_count": 20,
   "id": "b9a9951c",
   "metadata": {},
   "outputs": [],
   "source": [
    "# Implementasi dari algoritma KMeans clustering pada data yang telah dinormalisasi dengan menggunakan StandardScaler.\n",
    "kmeans = KMeans(n_clusters=5)\n",
    "label = kmeans.fit_predict(scaled_ds)"
   ]
  },
  {
   "cell_type": "code",
   "execution_count": 21,
   "id": "2c48fe0e",
   "metadata": {},
   "outputs": [],
   "source": [
    "data['Cluster']=label"
   ]
  },
  {
   "cell_type": "code",
   "execution_count": 22,
   "id": "82c6ee29",
   "metadata": {},
   "outputs": [
    {
     "data": {
      "text/plain": [
       "0    18657\n",
       "3      455\n",
       "2       84\n",
       "4       69\n",
       "1       52\n",
       "Name: Cluster, dtype: int64"
      ]
     },
     "execution_count": 22,
     "metadata": {},
     "output_type": "execute_result"
    }
   ],
   "source": [
    "data.Cluster.value_counts()"
   ]
  },
  {
   "cell_type": "code",
   "execution_count": 23,
   "id": "f0a5a8eb",
   "metadata": {},
   "outputs": [
    {
     "data": {
      "text/html": [
       "<div>\n",
       "<style scoped>\n",
       "    .dataframe tbody tr th:only-of-type {\n",
       "        vertical-align: middle;\n",
       "    }\n",
       "\n",
       "    .dataframe tbody tr th {\n",
       "        vertical-align: top;\n",
       "    }\n",
       "\n",
       "    .dataframe thead th {\n",
       "        text-align: right;\n",
       "    }\n",
       "</style>\n",
       "<table border=\"1\" class=\"dataframe\">\n",
       "  <thead>\n",
       "    <tr style=\"text-align: right;\">\n",
       "      <th></th>\n",
       "      <th>Case_Type</th>\n",
       "      <th>Cases</th>\n",
       "      <th>Difference</th>\n",
       "      <th>Country_Region</th>\n",
       "      <th>Cluster</th>\n",
       "    </tr>\n",
       "  </thead>\n",
       "  <tbody>\n",
       "    <tr>\n",
       "      <th>0</th>\n",
       "      <td>0</td>\n",
       "      <td>319</td>\n",
       "      <td>1</td>\n",
       "      <td>109</td>\n",
       "      <td>0</td>\n",
       "    </tr>\n",
       "    <tr>\n",
       "      <th>1</th>\n",
       "      <td>1</td>\n",
       "      <td>0</td>\n",
       "      <td>0</td>\n",
       "      <td>11</td>\n",
       "      <td>0</td>\n",
       "    </tr>\n",
       "    <tr>\n",
       "      <th>2</th>\n",
       "      <td>0</td>\n",
       "      <td>16</td>\n",
       "      <td>0</td>\n",
       "      <td>65</td>\n",
       "      <td>0</td>\n",
       "    </tr>\n",
       "    <tr>\n",
       "      <th>3</th>\n",
       "      <td>1</td>\n",
       "      <td>0</td>\n",
       "      <td>0</td>\n",
       "      <td>32</td>\n",
       "      <td>0</td>\n",
       "    </tr>\n",
       "    <tr>\n",
       "      <th>4</th>\n",
       "      <td>1</td>\n",
       "      <td>0</td>\n",
       "      <td>0</td>\n",
       "      <td>8</td>\n",
       "      <td>0</td>\n",
       "    </tr>\n",
       "    <tr>\n",
       "      <th>...</th>\n",
       "      <td>...</td>\n",
       "      <td>...</td>\n",
       "      <td>...</td>\n",
       "      <td>...</td>\n",
       "      <td>...</td>\n",
       "    </tr>\n",
       "    <tr>\n",
       "      <th>581259</th>\n",
       "      <td>0</td>\n",
       "      <td>231</td>\n",
       "      <td>21</td>\n",
       "      <td>170</td>\n",
       "      <td>0</td>\n",
       "    </tr>\n",
       "    <tr>\n",
       "      <th>581312</th>\n",
       "      <td>0</td>\n",
       "      <td>637</td>\n",
       "      <td>49</td>\n",
       "      <td>170</td>\n",
       "      <td>0</td>\n",
       "    </tr>\n",
       "    <tr>\n",
       "      <th>581333</th>\n",
       "      <td>0</td>\n",
       "      <td>244</td>\n",
       "      <td>6</td>\n",
       "      <td>170</td>\n",
       "      <td>0</td>\n",
       "    </tr>\n",
       "    <tr>\n",
       "      <th>581527</th>\n",
       "      <td>0</td>\n",
       "      <td>247</td>\n",
       "      <td>16</td>\n",
       "      <td>170</td>\n",
       "      <td>0</td>\n",
       "    </tr>\n",
       "    <tr>\n",
       "      <th>581616</th>\n",
       "      <td>0</td>\n",
       "      <td>4808</td>\n",
       "      <td>-58</td>\n",
       "      <td>170</td>\n",
       "      <td>0</td>\n",
       "    </tr>\n",
       "  </tbody>\n",
       "</table>\n",
       "<p>19317 rows × 5 columns</p>\n",
       "</div>"
      ],
      "text/plain": [
       "        Case_Type  Cases  Difference  Country_Region  Cluster\n",
       "0               0    319           1             109        0\n",
       "1               1      0           0              11        0\n",
       "2               0     16           0              65        0\n",
       "3               1      0           0              32        0\n",
       "4               1      0           0               8        0\n",
       "...           ...    ...         ...             ...      ...\n",
       "581259          0    231          21             170        0\n",
       "581312          0    637          49             170        0\n",
       "581333          0    244           6             170        0\n",
       "581527          0    247          16             170        0\n",
       "581616          0   4808         -58             170        0\n",
       "\n",
       "[19317 rows x 5 columns]"
      ]
     },
     "execution_count": 23,
     "metadata": {},
     "output_type": "execute_result"
    }
   ],
   "source": [
    "data"
   ]
  },
  {
   "cell_type": "code",
   "execution_count": 24,
   "id": "6a4ee989",
   "metadata": {},
   "outputs": [
    {
     "data": {
      "text/plain": [
       "Index(['Case_Type', 'Cases', 'Difference', 'Country_Region', 'Cluster'], dtype='object')"
      ]
     },
     "execution_count": 24,
     "metadata": {},
     "output_type": "execute_result"
    }
   ],
   "source": [
    "data.columns"
   ]
  },
  {
   "cell_type": "code",
   "execution_count": 25,
   "id": "7f54b08c",
   "metadata": {},
   "outputs": [
    {
     "data": {
      "text/plain": [
       "0    18657\n",
       "3      455\n",
       "2       84\n",
       "4       69\n",
       "1       52\n",
       "Name: Cluster, dtype: int64"
      ]
     },
     "execution_count": 25,
     "metadata": {},
     "output_type": "execute_result"
    }
   ],
   "source": [
    "data['Cluster'].value_counts()"
   ]
  },
  {
   "cell_type": "code",
   "execution_count": 26,
   "id": "f4e2afd2",
   "metadata": {},
   "outputs": [],
   "source": [
    "from sklearn.model_selection import train_test_split\n",
    "X = data[['Case_Type', 'Cases', 'Difference', 'Country_Region']]\n",
    "y = data['Cluster']\n",
    "# for resampling \n",
    "from imblearn.over_sampling import RandomOverSampler\n",
    "oversample = RandomOverSampler(sampling_strategy='auto')\n",
    "\n",
    "X_ros, y_ros = oversample.fit_resample(X, y)"
   ]
  },
  {
   "cell_type": "code",
   "execution_count": 27,
   "id": "79acc254",
   "metadata": {},
   "outputs": [
    {
     "data": {
      "text/plain": [
       "0    18657\n",
       "3    18657\n",
       "4    18657\n",
       "2    18657\n",
       "1    18657\n",
       "Name: Cluster, dtype: int64"
      ]
     },
     "execution_count": 27,
     "metadata": {},
     "output_type": "execute_result"
    }
   ],
   "source": [
    "y_ros.value_counts()"
   ]
  },
  {
   "cell_type": "code",
   "execution_count": 28,
   "id": "7047681e",
   "metadata": {},
   "outputs": [],
   "source": [
    "from sklearn.model_selection import train_test_split\n",
    "X_train, X_test, y_train, y_test= train_test_split(X_ros,y_ros, test_size=0.2, random_state=42)"
   ]
  },
  {
   "cell_type": "code",
   "execution_count": 29,
   "id": "592430c3",
   "metadata": {},
   "outputs": [],
   "source": [
    "from sklearn.preprocessing import StandardScaler\n",
    "# Memilih kolom numerik\n",
    "columns = ['Cases','Difference']\n",
    "\n",
    "# Membuat objek scaler\n",
    "sc = StandardScaler()\n",
    "\n",
    "# Melakukan z-score pada dataset\n",
    "sc_Xtrain= sc.fit_transform(X_train[columns])\n",
    "sc_Xtest=sc.fit_transform(X_test[columns])"
   ]
  },
  {
   "cell_type": "code",
   "execution_count": 30,
   "id": "8aa41459",
   "metadata": {},
   "outputs": [],
   "source": [
    "X_train[columns]=sc_Xtrain\n",
    "X_test[columns]=sc_Xtest"
   ]
  },
  {
   "cell_type": "code",
   "execution_count": 31,
   "id": "7d3dbd60",
   "metadata": {},
   "outputs": [
    {
     "data": {
      "text/html": [
       "<style>#sk-container-id-1 {color: black;background-color: white;}#sk-container-id-1 pre{padding: 0;}#sk-container-id-1 div.sk-toggleable {background-color: white;}#sk-container-id-1 label.sk-toggleable__label {cursor: pointer;display: block;width: 100%;margin-bottom: 0;padding: 0.3em;box-sizing: border-box;text-align: center;}#sk-container-id-1 label.sk-toggleable__label-arrow:before {content: \"▸\";float: left;margin-right: 0.25em;color: #696969;}#sk-container-id-1 label.sk-toggleable__label-arrow:hover:before {color: black;}#sk-container-id-1 div.sk-estimator:hover label.sk-toggleable__label-arrow:before {color: black;}#sk-container-id-1 div.sk-toggleable__content {max-height: 0;max-width: 0;overflow: hidden;text-align: left;background-color: #f0f8ff;}#sk-container-id-1 div.sk-toggleable__content pre {margin: 0.2em;color: black;border-radius: 0.25em;background-color: #f0f8ff;}#sk-container-id-1 input.sk-toggleable__control:checked~div.sk-toggleable__content {max-height: 200px;max-width: 100%;overflow: auto;}#sk-container-id-1 input.sk-toggleable__control:checked~label.sk-toggleable__label-arrow:before {content: \"▾\";}#sk-container-id-1 div.sk-estimator input.sk-toggleable__control:checked~label.sk-toggleable__label {background-color: #d4ebff;}#sk-container-id-1 div.sk-label input.sk-toggleable__control:checked~label.sk-toggleable__label {background-color: #d4ebff;}#sk-container-id-1 input.sk-hidden--visually {border: 0;clip: rect(1px 1px 1px 1px);clip: rect(1px, 1px, 1px, 1px);height: 1px;margin: -1px;overflow: hidden;padding: 0;position: absolute;width: 1px;}#sk-container-id-1 div.sk-estimator {font-family: monospace;background-color: #f0f8ff;border: 1px dotted black;border-radius: 0.25em;box-sizing: border-box;margin-bottom: 0.5em;}#sk-container-id-1 div.sk-estimator:hover {background-color: #d4ebff;}#sk-container-id-1 div.sk-parallel-item::after {content: \"\";width: 100%;border-bottom: 1px solid gray;flex-grow: 1;}#sk-container-id-1 div.sk-label:hover label.sk-toggleable__label {background-color: #d4ebff;}#sk-container-id-1 div.sk-serial::before {content: \"\";position: absolute;border-left: 1px solid gray;box-sizing: border-box;top: 0;bottom: 0;left: 50%;z-index: 0;}#sk-container-id-1 div.sk-serial {display: flex;flex-direction: column;align-items: center;background-color: white;padding-right: 0.2em;padding-left: 0.2em;position: relative;}#sk-container-id-1 div.sk-item {position: relative;z-index: 1;}#sk-container-id-1 div.sk-parallel {display: flex;align-items: stretch;justify-content: center;background-color: white;position: relative;}#sk-container-id-1 div.sk-item::before, #sk-container-id-1 div.sk-parallel-item::before {content: \"\";position: absolute;border-left: 1px solid gray;box-sizing: border-box;top: 0;bottom: 0;left: 50%;z-index: -1;}#sk-container-id-1 div.sk-parallel-item {display: flex;flex-direction: column;z-index: 1;position: relative;background-color: white;}#sk-container-id-1 div.sk-parallel-item:first-child::after {align-self: flex-end;width: 50%;}#sk-container-id-1 div.sk-parallel-item:last-child::after {align-self: flex-start;width: 50%;}#sk-container-id-1 div.sk-parallel-item:only-child::after {width: 0;}#sk-container-id-1 div.sk-dashed-wrapped {border: 1px dashed gray;margin: 0 0.4em 0.5em 0.4em;box-sizing: border-box;padding-bottom: 0.4em;background-color: white;}#sk-container-id-1 div.sk-label label {font-family: monospace;font-weight: bold;display: inline-block;line-height: 1.2em;}#sk-container-id-1 div.sk-label-container {text-align: center;}#sk-container-id-1 div.sk-container {/* jupyter's `normalize.less` sets `[hidden] { display: none; }` but bootstrap.min.css set `[hidden] { display: none !important; }` so we also need the `!important` here to be able to override the default hidden behavior on the sphinx rendered scikit-learn.org. See: https://github.com/scikit-learn/scikit-learn/issues/21755 */display: inline-block !important;position: relative;}#sk-container-id-1 div.sk-text-repr-fallback {display: none;}</style><div id=\"sk-container-id-1\" class=\"sk-top-container\"><div class=\"sk-text-repr-fallback\"><pre>RandomForestClassifier()</pre><b>In a Jupyter environment, please rerun this cell to show the HTML representation or trust the notebook. <br />On GitHub, the HTML representation is unable to render, please try loading this page with nbviewer.org.</b></div><div class=\"sk-container\" hidden><div class=\"sk-item\"><div class=\"sk-estimator sk-toggleable\"><input class=\"sk-toggleable__control sk-hidden--visually\" id=\"sk-estimator-id-1\" type=\"checkbox\" checked><label for=\"sk-estimator-id-1\" class=\"sk-toggleable__label sk-toggleable__label-arrow\">RandomForestClassifier</label><div class=\"sk-toggleable__content\"><pre>RandomForestClassifier()</pre></div></div></div></div></div>"
      ],
      "text/plain": [
       "RandomForestClassifier()"
      ]
     },
     "execution_count": 31,
     "metadata": {},
     "output_type": "execute_result"
    }
   ],
   "source": [
    "rf = RandomForestClassifier()\n",
    "rf.fit(X_train, y_train)"
   ]
  },
  {
   "cell_type": "code",
   "execution_count": 32,
   "id": "9fd2545e",
   "metadata": {},
   "outputs": [
    {
     "data": {
      "text/plain": [
       "array([4, 2, 1, ..., 4, 3, 3])"
      ]
     },
     "execution_count": 32,
     "metadata": {},
     "output_type": "execute_result"
    }
   ],
   "source": [
    "rf_pred = rf.predict(X_test)\n",
    "rf_pred"
   ]
  },
  {
   "cell_type": "code",
   "execution_count": 34,
   "id": "56fd4a66",
   "metadata": {},
   "outputs": [
    {
     "data": {
      "text/plain": [
       "0.9950152757678083"
      ]
     },
     "execution_count": 34,
     "metadata": {},
     "output_type": "execute_result"
    }
   ],
   "source": [
    "accuracy_score(y_test, rf_pred)"
   ]
  },
  {
   "cell_type": "code",
   "execution_count": 35,
   "id": "9bd43ada",
   "metadata": {},
   "outputs": [],
   "source": [
    "import pickle"
   ]
  },
  {
   "cell_type": "code",
   "execution_count": 36,
   "id": "495ee423",
   "metadata": {},
   "outputs": [],
   "source": [
    "filename = 'rf_call.pkl'\n",
    "pickle.dump(rf, open(filename, 'wb'))"
   ]
  },
  {
   "cell_type": "code",
   "execution_count": 37,
   "id": "ff4c90e3",
   "metadata": {},
   "outputs": [],
   "source": [
    "filename = 'sc_call.pkl'\n",
    "pickle.dump(sc, open(filename, 'wb'))"
   ]
  },
  {
   "cell_type": "code",
   "execution_count": null,
   "id": "f5f8678b",
   "metadata": {},
   "outputs": [],
   "source": []
  }
 ],
 "metadata": {
  "kernelspec": {
   "display_name": "Python 3 (ipykernel)",
   "language": "python",
   "name": "python3"
  },
  "language_info": {
   "codemirror_mode": {
    "name": "ipython",
    "version": 3
   },
   "file_extension": ".py",
   "mimetype": "text/x-python",
   "name": "python",
   "nbconvert_exporter": "python",
   "pygments_lexer": "ipython3",
   "version": "3.10.7"
  }
 },
 "nbformat": 4,
 "nbformat_minor": 5
}
